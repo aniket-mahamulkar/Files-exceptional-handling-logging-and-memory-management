{
  "nbformat": 4,
  "nbformat_minor": 0,
  "metadata": {
    "colab": {
      "provenance": []
    },
    "kernelspec": {
      "name": "python3",
      "display_name": "Python 3"
    },
    "language_info": {
      "name": "python"
    }
  },
  "cells": [
    {
      "cell_type": "markdown",
      "source": [
        "**Files, exceptional handling, logging and\n",
        "memory management Questions**\n",
        "\n",
        "1.What is the difference between interpreted and compiled languages?\n",
        "-  (1)Interpreted: Executes line-by-line (e.g., Python).\n",
        "\n",
        " (2)Compiled: Converts whole program into machine code before execution (e.g., C, C++).\n",
        "\n",
        "2.What is the difference between interpreted and compiled languages?\n",
        "-  It's the mechanism to catch and handle runtime errors using try, except, else, and finally.\n",
        "\n",
        "3.What is the purpose of the finally block in exception handling?\n",
        "- It runs regardless of exception, typically used to release resources (e.g., closing a file).\n",
        "\n",
        "4.What is logging in Python?\n",
        "- A module to track events that happen during execution, helpful for debugging and monitoring.\n",
        "\n",
        "5.What is the significance of the __del__ method in Python?\n",
        "- Destructor method called when an object is deleted or goes out of scope.\n",
        "\n",
        "6.What is the difference between import and from ... import in Python?\n",
        "- (1)import module: Imports whole module.\n",
        "\n",
        " (2)from module import something: Imports specific objects from module.\n",
        "\n",
        "7.How can you handle multiple exceptions in Python?\n",
        "- Use multiple except blocks or a tuple:\n",
        " try:\n",
        "    ...\n",
        "except (TypeError, ValueError) as e:\n",
        "    print(e)\n",
        "\n",
        "\n",
        "8.What is the purpose of the with statement when handling files in Python?\n",
        "-  Simplifies file handling by automatically closing the file:\n",
        "   \n",
        "   with open(\"file.txt\") as f:\n",
        "\n",
        "\n",
        "\n",
        "9.What is the difference between multithreading and multiprocessing?\n",
        "- (1)Multithreading: Concurrent tasks in the same process.\n",
        "\n",
        " (2)Multiprocessing: Multiple processes, better for CPU-bound tasks.\n",
        "\n",
        "10.What are the advantages of using logging in a program?\n",
        "- Easy debugging, monitoring, and record-keeping of runtime events/errors.\n",
        "\n",
        "11.What is memory management in Python?\n",
        "- Python uses automatic memory management with reference counting and garbage collection.\n",
        "\n",
        "12.What are the basic steps involved in exception handling in Python?\n",
        "- (1)try to run code\n",
        "\n",
        " (2)except to catch errors\n",
        "\n",
        " (3)else runs if no error\n",
        "\n",
        " (4)finally runs always\n",
        "\n",
        "13.Why is memory management important in Python?\n",
        "- Prevents memory leaks and ensures optimal resource utilization.\n",
        "\n",
        "14.What is the role of try and except in exception handling?\n",
        "- try contains risky code; except handles errors gracefully.\n",
        "\n",
        "15.How does Python's garbage collection system work?\n",
        "- Automatically deallocates memory using reference counting and cyclic garbage collector.\n",
        "\n",
        "16.What is the purpose of the else block in exception handling?\n",
        "- Executes if no exception is raised in try.\n",
        "\n",
        "17.What are the common logging levels in Python?\n",
        "- (1)DEBUG\n",
        "\n",
        " (2)INFO\n",
        "\n",
        " (3)WARNING\n",
        "\n",
        " (4)ERROR\n",
        "\n",
        " (5)CRITICAL\n",
        "\n",
        "18.What is the difference between os.fork() and multiprocessing in Python?\n",
        "- (1)os.fork(): Unix-based, low-level.\n",
        "\n",
        " (2)multiprocessing: High-level, cross-platform API.\n",
        "\n",
        "19.What is the importance of closing a file in Python?\n",
        "- Frees up system resources and ensures data is written properly.\n",
        "\n",
        "20.What is the difference between file.read() and file.readline() in Python?\n",
        "- (1)read(): Reads whole file\n",
        "\n",
        " (2)readline(): Reads one line at a time\n",
        "\n",
        "21.What is the logging module in Python used for?\n",
        "- Logs errors, info, and debug messages to console or files\n",
        "\n",
        "22.What is the os module in Python used for in file handling?\n",
        "- Used to interact with the file system (create, delete, check existence, etc.)\n",
        "\n",
        "23.What are the challenges associated with memory management in Python?\n",
        "- (1)Memory leaks\n",
        "\n",
        " (2)Circular references\n",
        "\n",
        " (3)Performance issues\n",
        "\n",
        "24.How do you raise an exception manually in Python?\n",
        "- raise ValueError(\"This is an error\")\n",
        "\n",
        "25.Why is it important to use multithreading in certain applications?\n",
        "- Useful for I/O-bound applications like file operations, web requests, etc.\n"
      ],
      "metadata": {
        "id": "fM9yUCGNcgF5"
      }
    },
    {
      "cell_type": "markdown",
      "source": [
        "**Practical Questions:-**"
      ],
      "metadata": {
        "id": "5J1TcGtCm_dQ"
      }
    },
    {
      "cell_type": "code",
      "source": [
        "#1.How can you open a file for writing in Python and write a string to it?\n",
        "with open(\"example.txt\", \"w\") as f:\n",
        "    f.write(\"Hello, file!\")"
      ],
      "metadata": {
        "id": "hzw0o02Jn0xm"
      },
      "execution_count": 1,
      "outputs": []
    },
    {
      "cell_type": "code",
      "source": [
        "#2.Write a Python program to read the contents of a file and print each line.\n",
        "with open(\"example.txt\", \"r\") as f:\n",
        "    for line in f:\n",
        "        print(line)"
      ],
      "metadata": {
        "id": "R5fSUYwcoNmL",
        "colab": {
          "base_uri": "https://localhost:8080/"
        },
        "outputId": "7d537650-6aff-4b59-c1f7-79dd7f8a6720"
      },
      "execution_count": 2,
      "outputs": [
        {
          "output_type": "stream",
          "name": "stdout",
          "text": [
            "Hello, file!\n"
          ]
        }
      ]
    },
    {
      "cell_type": "code",
      "source": [
        "#3. How would you handle a case where the file doesn't exist while trying to open it for reading?\n",
        "try:\n",
        "    with open(\"missing.txt\") as f:\n",
        "        print(f.read())\n",
        "except FileNotFoundError:\n",
        "    print(\"File not found.\")"
      ],
      "metadata": {
        "id": "GlD4AhpyoN0E",
        "colab": {
          "base_uri": "https://localhost:8080/"
        },
        "outputId": "ab0b3f30-c476-4326-b2e3-5ec0001a64ba"
      },
      "execution_count": 3,
      "outputs": [
        {
          "output_type": "stream",
          "name": "stdout",
          "text": [
            "File not found.\n"
          ]
        }
      ]
    },
    {
      "cell_type": "code",
      "source": [
        "#4.Write a Python script that reads from one file and writes its content to another file.\n",
        "import os\n",
        "\n",
        "source_file = \"source.txt\"\n",
        "target_file = \"target.txt\"\n",
        "\n",
        "if os.path.exists(source_file):  # Ensure source file exists\n",
        "    with open(source_file, \"r\") as s, open(target_file, \"w\") as t:\n",
        "        t.write(s.read())\n",
        "    print(f\"Contents copied from {source_file} to {target_file}.\")\n",
        "else:\n",
        "    print(f\"Source file '{source_file}' does not exist.\")\n"
      ],
      "metadata": {
        "id": "0-ySqHOEoN9M",
        "colab": {
          "base_uri": "https://localhost:8080/"
        },
        "outputId": "35756f5f-8e84-4949-884f-720a5627a4df"
      },
      "execution_count": 17,
      "outputs": [
        {
          "output_type": "stream",
          "name": "stdout",
          "text": [
            "Source file 'source.txt' does not exist.\n"
          ]
        }
      ]
    },
    {
      "cell_type": "code",
      "source": [
        "#5.How would you catch and handle division by zero error in Python?\n",
        "# 5. Division by zero handling\n",
        "try:\n",
        "    a = 10 / 0\n",
        "except ZeroDivisionError:\n",
        "    print(\"Can't divide by zero.\")"
      ],
      "metadata": {
        "id": "MRvHuALzoOa-"
      },
      "execution_count": null,
      "outputs": []
    },
    {
      "cell_type": "code",
      "source": [
        "#6.Write a Python program that logs an error message to a log file when a division by zero exception occurs.\n",
        "import logging\n",
        "logging.basicConfig(filename='log.txt', level=logging.ERROR)\n",
        "try:\n",
        "    1 / 0\n",
        "except ZeroDivisionError as e:\n",
        "    logging.error(\"Division by zero: %s\", e)"
      ],
      "metadata": {
        "id": "0Ysb63xkoOfO"
      },
      "execution_count": null,
      "outputs": []
    },
    {
      "cell_type": "code",
      "source": [
        "#7.How do you log information at different levels (INFO, ERROR, WARNING) in Python using the logging module?\n",
        "logging.basicConfig(level=logging.DEBUG)\n",
        "logging.debug(\"Debug msg\")\n",
        "logging.info(\"Info msg\")\n",
        "logging.warning(\"Warning msg\")\n",
        "logging.error(\"Error msg\")\n",
        "logging.critical(\"Critical msg\")\n"
      ],
      "metadata": {
        "id": "UdWoseJroOiW"
      },
      "execution_count": null,
      "outputs": []
    },
    {
      "cell_type": "code",
      "source": [
        "#8.Write a program to handle a file opening error using exception handling.\n",
        "try:\n",
        "    with open(\"file.txt\") as f:\n",
        "        pass\n",
        "except Exception as e:\n",
        "    print(e)"
      ],
      "metadata": {
        "id": "8FvNPuzuoOlv",
        "colab": {
          "base_uri": "https://localhost:8080/"
        },
        "outputId": "b8ea4b63-f38e-4c4d-be59-5369421e5837"
      },
      "execution_count": 6,
      "outputs": [
        {
          "output_type": "stream",
          "name": "stdout",
          "text": [
            "[Errno 2] No such file or directory: 'file.txt'\n"
          ]
        }
      ]
    },
    {
      "cell_type": "code",
      "source": [
        "#9.How can you read a file line by line and store its content in a list in Python?\n",
        "lines = []\n",
        "with open(\"example.txt\") as f:\n",
        "    for line in f:\n",
        "        lines.append(line.strip())\n",
        "print(lines)\n"
      ],
      "metadata": {
        "id": "32W7se19oOop",
        "colab": {
          "base_uri": "https://localhost:8080/"
        },
        "outputId": "e24032e8-4d9e-47aa-dada-1698c605830e"
      },
      "execution_count": 7,
      "outputs": [
        {
          "output_type": "stream",
          "name": "stdout",
          "text": [
            "['Hello, file!']\n"
          ]
        }
      ]
    },
    {
      "cell_type": "code",
      "source": [
        "#10.How can you append data to an existing file in Python?\n",
        "with open(\"example.txt\", \"a\") as f:\n",
        "    f.write(\"\\nAppended line.\")"
      ],
      "metadata": {
        "id": "z6RGj9DHoOrx"
      },
      "execution_count": null,
      "outputs": []
    },
    {
      "cell_type": "code",
      "source": [
        "#11. Write a Python program that uses a try-except block to handle an error when attempting to access a dictionary key that doesn't exist\n",
        "try:\n",
        "    d = {\"a\": 1}\n",
        "    print(d[\"b\"])\n",
        "except KeyError:\n",
        "    print(\"Key not found.\")"
      ],
      "metadata": {
        "id": "ERVinQtdoOui"
      },
      "execution_count": null,
      "outputs": []
    },
    {
      "cell_type": "code",
      "source": [
        "#12.Write a program that demonstrates using multiple except blocks to handle different types of exceptions.\n",
        "try:\n",
        "    a = int(\"xyz\")\n",
        "except ValueError:\n",
        "    print(\"Value error\")\n",
        "except TypeError:\n",
        "    print(\"Type error\")"
      ],
      "metadata": {
        "id": "zImQ9y08oOxe"
      },
      "execution_count": null,
      "outputs": []
    },
    {
      "cell_type": "code",
      "source": [
        "#13.How would you check if a file exists before attempting to read it in Python?\n",
        "import os\n",
        "print(os.path.exists(\"example.txt\"))"
      ],
      "metadata": {
        "id": "E1XhjGLjoO0I"
      },
      "execution_count": null,
      "outputs": []
    },
    {
      "cell_type": "code",
      "source": [
        "#14.Write a program that uses the logging module to log both informational and error messages.\n",
        "logging.basicConfig(filename=\"app.log\", level=logging.INFO)\n",
        "try:\n",
        "    x = 10 / 0\n",
        "except ZeroDivisionError:\n",
        "    logging.error(\"Math error!\")\n",
        "else:\n",
        "    logging.info(\"Success\")"
      ],
      "metadata": {
        "id": "PfIVWh9KoO3b"
      },
      "execution_count": null,
      "outputs": []
    },
    {
      "cell_type": "code",
      "source": [
        "#15.Write a Python program that prints the content of a file and handles the case when the file is empty.\n",
        "with open(\"empty.txt\", \"r\") as f:\n",
        "    content = f.read()\n",
        "    if not content:\n",
        "        print(\"File is empty\")\n",
        "    else:\n",
        "        print(content)"
      ],
      "metadata": {
        "id": "2MKoQ8J3oO6k"
      },
      "execution_count": null,
      "outputs": []
    },
    {
      "cell_type": "code",
      "source": [
        "#16.Demonstrate how to use memory profiling to check the memory usage of a small program.\n",
        "import tracemalloc\n",
        "tracemalloc.start()\n",
        "a = [i for i in range(10000)]\n",
        "print(tracemalloc.get_traced_memory())\n",
        "tracemalloc.stop()"
      ],
      "metadata": {
        "id": "idYyhmcDoO96",
        "colab": {
          "base_uri": "https://localhost:8080/"
        },
        "outputId": "7f3ae218-c23c-431b-9432-831525e11951"
      },
      "execution_count": 8,
      "outputs": [
        {
          "output_type": "stream",
          "name": "stdout",
          "text": [
            "(397905, 409193)\n"
          ]
        }
      ]
    },
    {
      "cell_type": "code",
      "source": [
        "#17.Write a Python program to create and write a list of numbers to a file, one number per line.\n",
        "with open(\"nums.txt\", \"w\") as f:\n",
        "    for i in range(1, 11):\n",
        "        f.write(str(i) + \"\\n\")"
      ],
      "metadata": {
        "id": "K8Wv7uzIoPBU"
      },
      "execution_count": null,
      "outputs": []
    },
    {
      "cell_type": "code",
      "source": [
        "#18.How would you implement a basic logging setup that logs to a file with rotation after 1MB?\n",
        "import logging\n",
        "from logging.handlers import RotatingFileHandler\n",
        "\n",
        "# Configure logger\n",
        "logger = logging.getLogger(\"RotatingLogger\")\n",
        "logger.setLevel(logging.INFO)\n",
        "\n",
        "# Rotating handler: max 1MB, keep 3 backups\n",
        "handler = RotatingFileHandler(\"rotate.log\", maxBytes=1_000_000, backupCount=3)\n",
        "formatter = logging.Formatter(\"%(asctime)s - %(levelname)s - %(message)s\")\n",
        "handler.setFormatter(formatter)\n",
        "\n",
        "logger.addHandler(handler)\n",
        "\n",
        "# Test log\n",
        "logger.info(\"This is a test log message for rotation.\")\n"
      ],
      "metadata": {
        "id": "uYwChEOioPFt",
        "colab": {
          "base_uri": "https://localhost:8080/"
        },
        "outputId": "5ff17481-fbd9-4929-8ca6-7bbc12b560ee"
      },
      "execution_count": 18,
      "outputs": [
        {
          "output_type": "stream",
          "name": "stderr",
          "text": [
            "INFO:RotatingLogger:This is a test log message for rotation.\n"
          ]
        }
      ]
    },
    {
      "cell_type": "code",
      "source": [
        "#19.Write a program that handles both IndexError and KeyError using a try-except block.\n",
        "try:\n",
        "    l = [1, 2]\n",
        "    print(l[5])\n",
        "except IndexError:\n",
        "    print(\"Index error\")\n",
        "try:\n",
        "    d = {}\n",
        "    print(d[\"x\"])\n",
        "except KeyError:\n",
        "    print(\"Key error\")"
      ],
      "metadata": {
        "id": "2YqjQY3GoPKM",
        "colab": {
          "base_uri": "https://localhost:8080/"
        },
        "outputId": "7354fed2-a632-4eed-a633-aa734df99046"
      },
      "execution_count": 10,
      "outputs": [
        {
          "output_type": "stream",
          "name": "stdout",
          "text": [
            "Index error\n",
            "Key error\n"
          ]
        }
      ]
    },
    {
      "cell_type": "code",
      "source": [
        "#20.How would you open a file and read its contents using a context manager in Python?\n",
        "with open(\"example.txt\") as f:\n",
        "    print(f.read())"
      ],
      "metadata": {
        "id": "P_ebbvbuoPNa",
        "colab": {
          "base_uri": "https://localhost:8080/"
        },
        "outputId": "64333c43-7e31-4912-b9cd-adbc05ee5cb7"
      },
      "execution_count": 11,
      "outputs": [
        {
          "output_type": "stream",
          "name": "stdout",
          "text": [
            "Hello, file!\n"
          ]
        }
      ]
    },
    {
      "cell_type": "code",
      "source": [
        "#21.Write a Python program that reads a file and prints the number of occurrences of a specific word.\n",
        "with open(\"example.txt\") as f:\n",
        "    content = f.read()\n",
        "    print(content.lower().count(\"file\"))"
      ],
      "metadata": {
        "id": "kvGWh2MToPQf",
        "colab": {
          "base_uri": "https://localhost:8080/"
        },
        "outputId": "d0806e28-c4be-4ce9-877e-ca2fa0768637"
      },
      "execution_count": 12,
      "outputs": [
        {
          "output_type": "stream",
          "name": "stdout",
          "text": [
            "1\n"
          ]
        }
      ]
    },
    {
      "cell_type": "code",
      "source": [
        "#22.How can you check if a file is empty before attempting to read its contents?\n",
        "import os\n",
        "import logging\n",
        "if os.path.getsize(\"example.txt\") == 0:\n",
        "    print(\"Empty file\")"
      ],
      "metadata": {
        "id": "-G4bLJm6oPT1"
      },
      "execution_count": 15,
      "outputs": []
    },
    {
      "cell_type": "code",
      "source": [
        "#23.Write a Python program that writes to a log file when an error occurs during file handling.\n",
        "try:\n",
        "    open(\"missing.txt\")\n",
        "except Exception as e:\n",
        "    logging.error(\"Error opening file: %s\", e)"
      ],
      "metadata": {
        "id": "Hd07H598oPY0",
        "colab": {
          "base_uri": "https://localhost:8080/"
        },
        "outputId": "cf349138-7de9-48db-c240-9905b7983045"
      },
      "execution_count": 16,
      "outputs": [
        {
          "output_type": "stream",
          "name": "stderr",
          "text": [
            "ERROR:root:Error opening file: [Errno 2] No such file or directory: 'missing.txt'\n"
          ]
        }
      ]
    }
  ]
}